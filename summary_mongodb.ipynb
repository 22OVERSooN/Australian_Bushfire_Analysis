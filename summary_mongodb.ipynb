{
 "cells": [
  {
   "cell_type": "code",
   "execution_count": 1,
   "metadata": {},
   "outputs": [],
   "source": [
    "import csv\n",
    "import pandas as pd\n",
    "import pymongo\n",
    "from pymongo import MongoClient\n",
    "import json\n",
    "# import sys, getopt, pprint"
   ]
  },
  {
   "cell_type": "markdown",
   "metadata": {},
   "source": [
    "# import csv into Mongodb"
   ]
  },
  {
   "cell_type": "code",
   "execution_count": 2,
   "metadata": {},
   "outputs": [],
   "source": [
    "#CSV to JSON Conversion\n",
    "csvfile = open('Resources/weather_summary_stats.csv', 'r')\n",
    "reader = csv.DictReader( csvfile )\n",
    "mongo_client=MongoClient() \n",
    "db=mongo_client.weather_summary_stats\n",
    "\n",
    "db.summary_stats.drop()\n",
    "header= [\"Date\", \"State\", \"Avg Max Temp\", \"Avg Rain mm\"]\n",
    "\n",
    "for each in reader:\n",
    "    row={}\n",
    "    for field in header:\n",
    "#         print (row)\n",
    "        row[field]=each[field]\n",
    "        \n",
    "    db.summary_stats.insert_one(row)"
   ]
  },
  {
   "cell_type": "code",
   "execution_count": 5,
   "metadata": {},
   "outputs": [],
   "source": [
    "#CSV to JSON Conversion\n",
    "csvfile = open('Resources/aus_weather_barchart.csv', 'r')\n",
    "reader = csv.DictReader( csvfile )\n",
    "mongo_client=MongoClient() \n",
    "db=mongo_client.barchart\n",
    "\n",
    "db.aus_weather_barchart.drop()\n",
    "header= [\"State-Station\", \"Date\", \"Max Temp\", \"Rain\"]\n",
    "\n",
    "for each in reader:\n",
    "    row={}\n",
    "    for field in header:\n",
    "#         print (row)\n",
    "        row[field]=each[field]\n",
    "        \n",
    "    db.aus_weather_barchart.insert_one(row)"
   ]
  },
  {
   "cell_type": "code",
   "execution_count": null,
   "metadata": {},
   "outputs": [],
   "source": []
  }
 ],
 "metadata": {
  "kernelspec": {
   "display_name": "PythonData",
   "language": "python",
   "name": "pythondata"
  },
  "language_info": {
   "codemirror_mode": {
    "name": "ipython",
    "version": 3
   },
   "file_extension": ".py",
   "mimetype": "text/x-python",
   "name": "python",
   "nbconvert_exporter": "python",
   "pygments_lexer": "ipython3",
   "version": "3.6.10"
  }
 },
 "nbformat": 4,
 "nbformat_minor": 4
}
