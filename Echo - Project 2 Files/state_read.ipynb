{
 "cells": [
  {
   "cell_type": "code",
   "execution_count": 1,
   "metadata": {},
   "outputs": [],
   "source": [
    "import pandas as pd\n",
    "import pymongo\n",
    "import json\n",
    "import geopandas\n",
    "import geopy\n",
    "from geopy.geocoders import Nominatim\n",
    "geolocator = Nominatim(user_agent = 'example app')"
   ]
  },
  {
   "cell_type": "markdown",
   "metadata": {},
   "source": [
    "## convert csv to json"
   ]
  },
  {
   "cell_type": "code",
   "execution_count": 2,
   "metadata": {},
   "outputs": [
    {
     "data": {
      "text/html": [
       "<div>\n",
       "<style scoped>\n",
       "    .dataframe tbody tr th:only-of-type {\n",
       "        vertical-align: middle;\n",
       "    }\n",
       "\n",
       "    .dataframe tbody tr th {\n",
       "        vertical-align: top;\n",
       "    }\n",
       "\n",
       "    .dataframe thead th {\n",
       "        text-align: right;\n",
       "    }\n",
       "</style>\n",
       "<table border=\"1\" class=\"dataframe\">\n",
       "  <thead>\n",
       "    <tr style=\"text-align: right;\">\n",
       "      <th></th>\n",
       "      <th>Unnamed: 0</th>\n",
       "      <th>latitude</th>\n",
       "      <th>longitude</th>\n",
       "      <th>brightness</th>\n",
       "      <th>date</th>\n",
       "    </tr>\n",
       "  </thead>\n",
       "  <tbody>\n",
       "    <tr>\n",
       "      <th>133700</th>\n",
       "      <td>133700</td>\n",
       "      <td>-14.1258</td>\n",
       "      <td>130.0385</td>\n",
       "      <td>334.1</td>\n",
       "      <td>2019-09-01</td>\n",
       "    </tr>\n",
       "    <tr>\n",
       "      <th>133701</th>\n",
       "      <td>133701</td>\n",
       "      <td>-17.0061</td>\n",
       "      <td>128.1230</td>\n",
       "      <td>323.2</td>\n",
       "      <td>2019-09-01</td>\n",
       "    </tr>\n",
       "    <tr>\n",
       "      <th>133702</th>\n",
       "      <td>133702</td>\n",
       "      <td>-16.0082</td>\n",
       "      <td>136.3203</td>\n",
       "      <td>329.4</td>\n",
       "      <td>2019-09-01</td>\n",
       "    </tr>\n",
       "    <tr>\n",
       "      <th>133703</th>\n",
       "      <td>133703</td>\n",
       "      <td>-16.0068</td>\n",
       "      <td>136.3296</td>\n",
       "      <td>330.0</td>\n",
       "      <td>2019-09-01</td>\n",
       "    </tr>\n",
       "    <tr>\n",
       "      <th>133704</th>\n",
       "      <td>133704</td>\n",
       "      <td>-16.1024</td>\n",
       "      <td>136.9362</td>\n",
       "      <td>334.2</td>\n",
       "      <td>2019-09-01</td>\n",
       "    </tr>\n",
       "  </tbody>\n",
       "</table>\n",
       "</div>"
      ],
      "text/plain": [
       "        Unnamed: 0  latitude  longitude  brightness        date\n",
       "133700      133700  -14.1258   130.0385       334.1  2019-09-01\n",
       "133701      133701  -17.0061   128.1230       323.2  2019-09-01\n",
       "133702      133702  -16.0082   136.3203       329.4  2019-09-01\n",
       "133703      133703  -16.0068   136.3296       330.0  2019-09-01\n",
       "133704      133704  -16.1024   136.9362       334.2  2019-09-01"
      ]
     },
     "execution_count": 2,
     "metadata": {},
     "output_type": "execute_result"
    }
   ],
   "source": [
    "df1 = pd.read_csv(\"Resources/Bushfire_2019&2020.csv\")\n",
    "df2 = df1[133700:133750]\n",
    "df2.head()"
   ]
  },
  {
   "cell_type": "code",
   "execution_count": 3,
   "metadata": {},
   "outputs": [],
   "source": [
    "lat = df2['latitude'].tolist()\n",
    "lon = df2['longitude'].tolist()\n"
   ]
  },
  {
   "cell_type": "code",
   "execution_count": 33,
   "metadata": {},
   "outputs": [
    {
     "name": "stdout",
     "output_type": "stream",
     "text": [
      "Northern Territory\n",
      "Western Australia\n",
      "Northern Territory\n",
      "Northern Territory\n",
      "Northern Territory\n",
      "Northern Territory\n",
      "Northern Territory\n",
      "Northern Territory\n",
      "Northern Territory\n",
      "Northern Territory\n",
      "Northern Territory\n",
      "Northern Territory\n",
      "Northern Territory\n",
      "Northern Territory\n",
      "Northern Territory\n",
      "Northern Territory\n",
      "Northern Territory\n",
      "Northern Territory\n",
      "Northern Territory\n",
      "Northern Territory\n",
      "Northern Territory\n",
      "Northern Territory\n",
      "Northern Territory\n",
      "Northern Territory\n",
      "Northern Territory\n",
      "Northern Territory\n",
      "Northern Territory\n",
      "Northern Territory\n",
      "Northern Territory\n",
      "Northern Territory\n",
      "Northern Territory\n",
      "Queensland\n",
      "Western Australia\n",
      "Western Australia\n",
      "Northern Territory\n",
      "Queensland\n",
      "Queensland\n",
      "Queensland\n",
      "Northern Territory\n",
      "Northern Territory\n",
      "Northern Territory\n",
      "Northern Territory\n",
      "Northern Territory\n",
      "Northern Territory\n",
      "Northern Territory\n",
      "Northern Territory\n",
      "Northern Territory\n",
      "Northern Territory\n",
      "Northern Territory\n",
      "Northern Territory\n"
     ]
    }
   ],
   "source": [
    "for i in range(50):\n",
    "    location_info = geolocator.reverse(\"{}, {}\".format(lat[i],lon[i]))\n",
    "    try:\n",
    "        print(location_info.raw['address']['state'])\n",
    "    except:\n",
    "        print(location_info.raw['address']['territory'])"
   ]
  },
  {
   "cell_type": "code",
   "execution_count": null,
   "metadata": {},
   "outputs": [],
   "source": []
  }
 ],
 "metadata": {
  "kernelspec": {
   "display_name": "PythonDate",
   "language": "python",
   "name": "pythondate"
  },
  "language_info": {
   "codemirror_mode": {
    "name": "ipython",
    "version": 3
   },
   "file_extension": ".py",
   "mimetype": "text/x-python",
   "name": "python",
   "nbconvert_exporter": "python",
   "pygments_lexer": "ipython3",
   "version": "3.6.10"
  }
 },
 "nbformat": 4,
 "nbformat_minor": 5
}
