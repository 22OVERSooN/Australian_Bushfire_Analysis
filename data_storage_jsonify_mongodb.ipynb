{
 "cells": [
  {
   "cell_type": "code",
   "execution_count": 17,
   "id": "f56e9f86",
   "metadata": {},
   "outputs": [],
   "source": [
    "import pandas as pd\n",
    "import pymongo\n",
    "import json"
   ]
  },
  {
   "cell_type": "markdown",
   "id": "7d04820c",
   "metadata": {},
   "source": [
    "## convert csv to json"
   ]
  },
  {
   "cell_type": "code",
   "execution_count": 23,
   "id": "67486eb5",
   "metadata": {},
   "outputs": [
    {
     "name": "stderr",
     "output_type": "stream",
     "text": [
      "/Users/xiaokunyu/.local/lib/python3.6/site-packages/ipykernel_launcher.py:4: SettingWithCopyWarning: \n",
      "A value is trying to be set on a copy of a slice from a DataFrame.\n",
      "Try using .loc[row_indexer,col_indexer] = value instead\n",
      "\n",
      "See the caveats in the documentation: https://pandas.pydata.org/pandas-docs/stable/user_guide/indexing.html#returning-a-view-versus-a-copy\n",
      "  after removing the cwd from sys.path.\n"
     ]
    },
    {
     "data": {
      "text/html": [
       "<div>\n",
       "<style scoped>\n",
       "    .dataframe tbody tr th:only-of-type {\n",
       "        vertical-align: middle;\n",
       "    }\n",
       "\n",
       "    .dataframe tbody tr th {\n",
       "        vertical-align: top;\n",
       "    }\n",
       "\n",
       "    .dataframe thead th {\n",
       "        text-align: right;\n",
       "    }\n",
       "</style>\n",
       "<table border=\"1\" class=\"dataframe\">\n",
       "  <thead>\n",
       "    <tr style=\"text-align: right;\">\n",
       "      <th></th>\n",
       "      <th>latitude</th>\n",
       "      <th>longitude</th>\n",
       "      <th>brightness</th>\n",
       "      <th>date</th>\n",
       "    </tr>\n",
       "  </thead>\n",
       "  <tbody>\n",
       "    <tr>\n",
       "      <th>0</th>\n",
       "      <td>-13.9873</td>\n",
       "      <td>127.3882</td>\n",
       "      <td>324.2</td>\n",
       "      <td>1/1/19</td>\n",
       "    </tr>\n",
       "    <tr>\n",
       "      <th>1</th>\n",
       "      <td>-13.9916</td>\n",
       "      <td>127.4121</td>\n",
       "      <td>327.4</td>\n",
       "      <td>1/1/19</td>\n",
       "    </tr>\n",
       "    <tr>\n",
       "      <th>2</th>\n",
       "      <td>-14.0055</td>\n",
       "      <td>127.4097</td>\n",
       "      <td>328.8</td>\n",
       "      <td>1/1/19</td>\n",
       "    </tr>\n",
       "    <tr>\n",
       "      <th>3</th>\n",
       "      <td>-14.1017</td>\n",
       "      <td>127.4337</td>\n",
       "      <td>334.9</td>\n",
       "      <td>1/1/19</td>\n",
       "    </tr>\n",
       "    <tr>\n",
       "      <th>4</th>\n",
       "      <td>-14.0012</td>\n",
       "      <td>127.3857</td>\n",
       "      <td>349.5</td>\n",
       "      <td>1/1/19</td>\n",
       "    </tr>\n",
       "  </tbody>\n",
       "</table>\n",
       "</div>"
      ],
      "text/plain": [
       "   latitude  longitude  brightness    date\n",
       "0  -13.9873   127.3882       324.2  1/1/19\n",
       "1  -13.9916   127.4121       327.4  1/1/19\n",
       "2  -14.0055   127.4097       328.8  1/1/19\n",
       "3  -14.1017   127.4337       334.9  1/1/19\n",
       "4  -14.0012   127.3857       349.5  1/1/19"
      ]
     },
     "execution_count": 23,
     "metadata": {},
     "output_type": "execute_result"
    }
   ],
   "source": [
    "#convert bushfire_2019&2020 to json\n",
    "df1 = pd.read_csv(\"Resources/Bushfire_2019&2020.csv\")\n",
    "df2 = df1.head()\n",
    "df2['date'] = df2['date'].astype(str)\n",
    "df2"
   ]
  },
  {
   "cell_type": "code",
   "execution_count": 22,
   "id": "f01d56d1",
   "metadata": {},
   "outputs": [
    {
     "name": "stdout",
     "output_type": "stream",
     "text": [
      "[[-13.9873,127.3882,324.2,\"1\\/1\\/19\"],[-13.9916,127.4121,327.4,\"1\\/1\\/19\"],[-14.0055,127.4097,328.8,\"1\\/1\\/19\"],[-14.1017,127.4337,334.9,\"1\\/1\\/19\"],[-14.0012,127.3857,349.5,\"1\\/1\\/19\"]]\n"
     ]
    }
   ],
   "source": [
    "result1 = df2.to_json(orient=\"values\")\n",
    "print(result1)\n"
   ]
  },
  {
   "cell_type": "code",
   "execution_count": 7,
   "id": "1d7dcf32",
   "metadata": {},
   "outputs": [
    {
     "name": "stderr",
     "output_type": "stream",
     "text": [
      "IOPub data rate exceeded.\n",
      "The notebook server will temporarily stop sending output\n",
      "to the client in order to avoid crashing it.\n",
      "To change this limit, set the config variable\n",
      "`--NotebookApp.iopub_data_rate_limit`.\n",
      "\n",
      "Current values:\n",
      "NotebookApp.iopub_data_rate_limit=1000000.0 (bytes/sec)\n",
      "NotebookApp.rate_limit_window=3.0 (secs)\n",
      "\n"
     ]
    }
   ],
   "source": [
    "parsed = json.loads(result1)\n",
    "json.dumps(parsed, indent = 4)\n",
    "    "
   ]
  },
  {
   "cell_type": "code",
   "execution_count": null,
   "id": "6698d16e",
   "metadata": {},
   "outputs": [],
   "source": []
  }
 ],
 "metadata": {
  "kernelspec": {
   "display_name": "Python [conda env:PythonDate] *",
   "language": "python",
   "name": "conda-env-PythonDate-py"
  },
  "language_info": {
   "codemirror_mode": {
    "name": "ipython",
    "version": 3
   },
   "file_extension": ".py",
   "mimetype": "text/x-python",
   "name": "python",
   "nbconvert_exporter": "python",
   "pygments_lexer": "ipython3",
   "version": "3.6.10"
  }
 },
 "nbformat": 4,
 "nbformat_minor": 5
}
